{
 "cells": [
  {
   "cell_type": "code",
   "execution_count": null,
   "id": "9fa30d19-fb11-4b87-91f1-13bc3cc37683",
   "metadata": {},
   "outputs": [],
   "source": [
    "import math\n",
    "\n",
    "\n",
    "def f1(x):\n",
    "  return x**2\n",
    "\n",
    "\n",
    "def f2(x):\n",
    "  return math.sin(x)\n",
    "\n",
    "\n",
    "def f3(x):\n",
    "  return math.exp(x)\n",
    "\n",
    "\n",
    "def deriative_approx(f, x, delta=1e-8):\n",
    "  return (f(x + delta) - f(x - delta)) / (2 * delta)\n",
    "\n",
    "\n",
    "def linear_approximation(f, c, x):\n",
    "  derivative_c = deriative_approx(f, c)\n",
    "  return f(c) + derivative_c * (x - c)\n",
    "\n",
    "\n",
    "def error_limit(f, c, E):\n",
    "  x1 = c - 1e-6\n",
    "  x2 = c + 1e-6\n",
    "\n",
    "  while abs(f(x1) - linear_approximation(f, c, x1)) > E:\n",
    "    x1 -= 1e-6\n",
    "\n",
    "  while abs(f(x2) - linear_approximation(f, c, x2)) > E:\n",
    "    x2 += 1e-6\n",
    "\n",
    "  return x1, x2\n",
    "\n",
    "\n",
    "c = 1\n",
    "E = 0.1\n",
    "x1, x2 = error_limit(f1, c, E)\n",
    "print(\"x1:\", x1)\n",
    "print(\"x2:\", x2)\n",
    "\n",
    "c = math.pi / 4\n",
    "E = 0.05\n",
    "x1, x2 = error_limit(f2, c, E)\n",
    "print(\"x1:\", x1)\n",
    "print(\"x2:\", x2)\n",
    "\n",
    "c = 0\n",
    "E = 0.01\n",
    "x1, x2 = error_limit(f3, c, E)\n",
    "print(\"x1:\", x1)\n",
    "print(\"x2:\", x2)\n"
   ]
  }
 ],
 "metadata": {
  "kernelspec": {
   "display_name": "Python 3 (ipykernel)",
   "language": "python",
   "name": "python3"
  },
  "language_info": {
   "codemirror_mode": {
    "name": "ipython",
    "version": 3
   },
   "file_extension": ".py",
   "mimetype": "text/x-python",
   "name": "python",
   "nbconvert_exporter": "python",
   "pygments_lexer": "ipython3",
   "version": "3.11.4"
  }
 },
 "nbformat": 4,
 "nbformat_minor": 5
}
