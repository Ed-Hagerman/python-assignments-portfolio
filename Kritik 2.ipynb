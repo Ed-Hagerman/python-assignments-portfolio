{
 "cells": [
  {
   "cell_type": "code",
   "execution_count": null,
   "id": "b9dfc5b5-b1ab-4457-bda9-7e214aa36c03",
   "metadata": {},
   "outputs": [],
   "source": [
    "import math\n",
    "\n",
    "def bisection(f, a, b, tolerance=1e-10, max_iterations=1000000):\n",
    "    \n",
    "    for _ in range(max_iterations):\n",
    "        c = (a + b) / 2\n",
    "        if abs(f(c)) < tolerance:\n",
    "            return c\n",
    "        if f(c) * f(a) < 0:\n",
    "            b = c\n",
    "        else:\n",
    "            a = c\n",
    "\n",
    "def f3(x):\n",
    "  if x <= 0:\n",
    "    x+= x+0.000000001\n",
    "  return math.sin(x) / math.log(x)\n",
    "\n",
    "def f1(x):\n",
    "  if x <= 0:\n",
    "    x+= x+0.000000001\n",
    "  return math.e**x + math.log(x)\n",
    "\n",
    "def f2(x):\n",
    "   return math.atan(x) - x**2\n",
    "\n",
    "def f4(x):\n",
    "    return math.log(math.cos(x))\n",
    "\n",
    "a = 0\n",
    "b = 1\n",
    "root1 = bisection(f1, a, b)\n",
    "print(root1)\n",
    "\n",
    "a = 0\n",
    "b = 2\n",
    "root2 = bisection(f2, a, b)\n",
    "print(root2)\n",
    "\n",
    "a = 3\n",
    "b = 4\n",
    "root3 = bisection(f3, a, b)\n",
    "print(root3)\n",
    "\n",
    "a = 5\n",
    "b = 7\n",
    "root4 = bisection(f4, a, b)\n",
    "print(root4)\n"
   ]
  },
  {
   "cell_type": "code",
   "execution_count": null,
   "id": "72f9db6b-d1dc-4e5c-8ab1-b600520cb35f",
   "metadata": {},
   "outputs": [],
   "source": [
    "import numpy as np\n",
    "\n",
    "def funny(x):\n",
    "  if x<=-1:\n",
    "    return 0\n",
    "  elif x>=1:\n",
    "    return 0\n",
    "  else:\n",
    "    return np.exp(1-(1/(1-x**(10**250))))\n",
    "\n",
    "print(funny(1))\n",
    "print(funny(-1))"
   ]
  }
 ],
 "metadata": {
  "kernelspec": {
   "display_name": "Python 3 (ipykernel)",
   "language": "python",
   "name": "python3"
  },
  "language_info": {
   "codemirror_mode": {
    "name": "ipython",
    "version": 3
   },
   "file_extension": ".py",
   "mimetype": "text/x-python",
   "name": "python",
   "nbconvert_exporter": "python",
   "pygments_lexer": "ipython3",
   "version": "3.11.4"
  }
 },
 "nbformat": 4,
 "nbformat_minor": 5
}
