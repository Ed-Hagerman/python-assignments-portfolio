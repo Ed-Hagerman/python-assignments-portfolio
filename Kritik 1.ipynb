{
 "cells": [
  {
   "cell_type": "code",
   "execution_count": null,
   "id": "bf5a3dd6-236d-4e24-8854-c4583d2bbfdf",
   "metadata": {},
   "outputs": [],
   "source": [
    "def arcTan(x):\n",
    "\n",
    "  run1 = True\n",
    "  n = 1\n",
    "  s = 0\n",
    "\n",
    "  if x > 1 or x < 0:\n",
    "\n",
    "    run1 = False\n",
    "    print('\\nError!')\n",
    "\n",
    "  while run1 == True:\n",
    "\n",
    "    for i in range(n):\n",
    "\n",
    "      s = (((-1)**i) * (x**(2 * i + 1))) / (2 * i + 1)\n",
    "      error_bound = x**(2 * n + 1) / (2 * n + 1)\n",
    "\n",
    "      if error_bound <= 0.0001 and s == x:\n",
    "\n",
    "        print(\"\\n\")\n",
    "        print(s, n, error_bound)\n",
    "        run1 = False\n",
    "\n",
    "      else:\n",
    "        n += 1\n",
    "\n",
    "\n",
    "z = 0\n",
    "\n",
    "while z < 5:\n",
    "  print(\n",
    "      \"\\nEnter an input to test, please use a number I have not idiot-proofed\")\n",
    "  b = float(input())\n",
    "  arcTan(b)\n",
    "  z = z + 1\n"
   ]
  }
 ],
 "metadata": {
  "kernelspec": {
   "display_name": "Python 3 (ipykernel)",
   "language": "python",
   "name": "python3"
  },
  "language_info": {
   "codemirror_mode": {
    "name": "ipython",
    "version": 3
   },
   "file_extension": ".py",
   "mimetype": "text/x-python",
   "name": "python",
   "nbconvert_exporter": "python",
   "pygments_lexer": "ipython3",
   "version": "3.11.4"
  }
 },
 "nbformat": 4,
 "nbformat_minor": 5
}
